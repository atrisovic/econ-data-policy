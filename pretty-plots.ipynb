{
 "cells": [
  {
   "cell_type": "code",
   "execution_count": 1,
   "metadata": {},
   "outputs": [],
   "source": [
    "import pandas as pd\n",
    "import matplotlib.pyplot as plt\n",
    "import seaborn as sns\n",
    "import numpy as np\n",
    "\n",
    "# plot style\n",
    "sns.set_style('whitegrid')\n",
    "sns.set_style({'font.family': 'Times New Roman'})"
   ]
  },
  {
   "cell_type": "code",
   "execution_count": 2,
   "metadata": {},
   "outputs": [],
   "source": [
    "%matplotlib inline  "
   ]
  },
  {
   "cell_type": "code",
   "execution_count": 3,
   "metadata": {},
   "outputs": [],
   "source": [
    "df = pd.read_csv(\"data-policy-results.csv\", sep='\\t')"
   ]
  },
  {
   "cell_type": "code",
   "execution_count": 4,
   "metadata": {},
   "outputs": [
    {
     "data": {
      "text/html": [
       "<div>\n",
       "<style scoped>\n",
       "    .dataframe tbody tr th:only-of-type {\n",
       "        vertical-align: middle;\n",
       "    }\n",
       "\n",
       "    .dataframe tbody tr th {\n",
       "        vertical-align: top;\n",
       "    }\n",
       "\n",
       "    .dataframe thead th {\n",
       "        text-align: right;\n",
       "    }\n",
       "</style>\n",
       "<table border=\"1\" class=\"dataframe\">\n",
       "  <thead>\n",
       "    <tr style=\"text-align: right;\">\n",
       "      <th></th>\n",
       "      <th>No</th>\n",
       "      <th>Name</th>\n",
       "      <th>Policy type</th>\n",
       "      <th>5 years ago</th>\n",
       "      <th>Sharing mode</th>\n",
       "      <th>Adopt AEA</th>\n",
       "    </tr>\n",
       "  </thead>\n",
       "  <tbody>\n",
       "    <tr>\n",
       "      <th>0</th>\n",
       "      <td>1</td>\n",
       "      <td>The Quarterly Journal of Economics, Oxford Uni...</td>\n",
       "      <td>Require</td>\n",
       "      <td>No</td>\n",
       "      <td>Data repository</td>\n",
       "      <td>Yes</td>\n",
       "    </tr>\n",
       "    <tr>\n",
       "      <th>1</th>\n",
       "      <td>2</td>\n",
       "      <td>American Economic Review, American Economic As...</td>\n",
       "      <td>Require</td>\n",
       "      <td>Yes</td>\n",
       "      <td>Data repository</td>\n",
       "      <td>Yes</td>\n",
       "    </tr>\n",
       "    <tr>\n",
       "      <th>2</th>\n",
       "      <td>3</td>\n",
       "      <td>Journal of Political Economy, University of Ch...</td>\n",
       "      <td>Require</td>\n",
       "      <td>Yes</td>\n",
       "      <td>Journal website</td>\n",
       "      <td>Yes</td>\n",
       "    </tr>\n",
       "    <tr>\n",
       "      <th>3</th>\n",
       "      <td>4</td>\n",
       "      <td>Econometrica, Econometric Society</td>\n",
       "      <td>Require</td>\n",
       "      <td>Yes</td>\n",
       "      <td>Journal website</td>\n",
       "      <td>No</td>\n",
       "    </tr>\n",
       "    <tr>\n",
       "      <th>4</th>\n",
       "      <td>5</td>\n",
       "      <td>Journal of Financial Economics, Elsevier</td>\n",
       "      <td>Recommend</td>\n",
       "      <td>NaN</td>\n",
       "      <td>Journal website</td>\n",
       "      <td>No</td>\n",
       "    </tr>\n",
       "  </tbody>\n",
       "</table>\n",
       "</div>"
      ],
      "text/plain": [
       "   No                                               Name Policy type  \\\n",
       "0   1  The Quarterly Journal of Economics, Oxford Uni...     Require   \n",
       "1   2  American Economic Review, American Economic As...     Require   \n",
       "2   3  Journal of Political Economy, University of Ch...     Require   \n",
       "3   4                  Econometrica, Econometric Society     Require   \n",
       "4   5           Journal of Financial Economics, Elsevier   Recommend   \n",
       "\n",
       "  5 years ago     Sharing mode Adopt AEA  \n",
       "0          No  Data repository       Yes  \n",
       "1         Yes  Data repository       Yes  \n",
       "2         Yes  Journal website       Yes  \n",
       "3         Yes  Journal website        No  \n",
       "4         NaN  Journal website        No  "
      ]
     },
     "execution_count": 4,
     "metadata": {},
     "output_type": "execute_result"
    }
   ],
   "source": [
    "df.head()"
   ]
  },
  {
   "cell_type": "code",
   "execution_count": 5,
   "metadata": {},
   "outputs": [
    {
     "data": {
      "text/plain": [
       "30"
      ]
     },
     "execution_count": 5,
     "metadata": {},
     "output_type": "execute_result"
    }
   ],
   "source": [
    "len(df)"
   ]
  },
  {
   "cell_type": "code",
   "execution_count": 6,
   "metadata": {},
   "outputs": [],
   "source": [
    "# Pie chart\n",
    "a = df['Policy type'].value_counts()\n",
    "labels = a.index\n",
    "sizes = a\n",
    "#colors\n",
    "colors1 = plt.cm.Set2(np.linspace(0,1,3))"
   ]
  },
  {
   "cell_type": "code",
   "execution_count": 7,
   "metadata": {
    "scrolled": true
   },
   "outputs": [
    {
     "data": {
      "image/png": "[encoded data removed]",
      "text/plain": [
       "<Figure size 720x324 with 2 Axes>"
      ]
     },
     "metadata": {
      "needs_background": "light"
     },
     "output_type": "display_data"
    }
   ],
   "source": [
    "fig, axes = plt.subplots(nrows=1, ncols=2, figsize=(10, 4.5))\n",
    "\n",
    "axes[0].pie(sizes, colors = colors1, labels=labels, autopct='%1.1f%%', startangle=50, pctdistance=0.85)\n",
    "axes[0].add_patch(plt.Circle((0,0),0.70,fc='white')) \n",
    "axes[0].axis('equal') \n",
    "axes[0].set_title(\"Data policy strictness of top 30 economics journals\")\n",
    "sns.countplot(x='Sharing mode', data=df, palette='Oranges', ax=axes[1])\n",
    "axes[1].set_title(\"Recommended sharing mode per data policy\")\n",
    "plt.tight_layout()\n",
    "plt.savefig('img/a.png', dpi=100)"
   ]
  },
  {
   "cell_type": "code",
   "execution_count": 9,
   "metadata": {},
   "outputs": [
    {
     "data": {
      "image/png": "[encoded data removed]",
      "text/plain": [
       "<Figure size 720x324 with 2 Axes>"
      ]
     },
     "metadata": {
      "needs_background": "light"
     },
     "output_type": "display_data"
    }
   ],
   "source": [
    "fig, axes = plt.subplots(nrows=1, ncols=2, figsize=(10, 4.5))\n",
    "sns.countplot(x='Adopt AEA', data=df, palette=\"Blues\", ax=axes[0])\n",
    "axes[0].set_title(\"Count of journals that adopt AEA data policy\")\n",
    "axes[0].set_xlabel(\"Adopt AEA data policy\")\n",
    "axes[0].set(ylim=(0, 22))\n",
    "axes[0].set_yticks(np.arange(0, 22, 2))\n",
    "sns.countplot(x='Adopt AEA', hue='Policy type', data=df, palette=colors1, ax=axes[1])\n",
    "axes[1].set_title(\"Count of journals that adopt AEA data policy & strictness\")\n",
    "axes[1].set_xlabel(\"Adopt AEA data policy\")\n",
    "axes[1].set(ylim=(0, 22))\n",
    "axes[1].set_yticks(np.arange(0, 22, 2))\n",
    "#plt.legend(loc=1)\n",
    "legend = plt.legend(frameon = 1)\n",
    "frame = legend.get_frame()\n",
    "frame.set_facecolor('white')\n",
    "#frame.set_edgecolor('gray')\n",
    "plt.tight_layout()\n",
    "plt.savefig('img/b.png', dpi=100)"
   ]
  },
  {
   "cell_type": "code",
   "execution_count": 419,
   "metadata": {},
   "outputs": [],
   "source": [
    "df = pd.read_csv(\"econ.csv\")\n",
    "a = df.sum()"
   ]
  },
  {
   "cell_type": "code",
   "execution_count": 420,
   "metadata": {},
   "outputs": [
    {
     "data": {
      "text/plain": [
       "array([673, 1, 7, 22, 15, 3, 245, 28, 52], dtype=object)"
      ]
     },
     "execution_count": 420,
     "metadata": {},
     "output_type": "execute_result"
    }
   ],
   "source": [
    "df1 = a[['stata', 'julia', 'python','R','C','C++','matlab','fortran','sas']]\n",
    "df1.values"
   ]
  },
  {
   "cell_type": "code",
   "execution_count": 421,
   "metadata": {},
   "outputs": [],
   "source": [
    "from __future__ import division\n",
    "pom = (df1.values * 100 / df1.values.sum())"
   ]
  },
  {
   "cell_type": "code",
   "execution_count": 422,
   "metadata": {
    "scrolled": false
   },
   "outputs": [
    {
     "data": {
      "text/plain": [
       "stata        64.3403\n",
       "matlab       23.4226\n",
       "sas          4.97132\n",
       "fortran      2.67686\n",
       "R            2.10325\n",
       "C            1.43403\n",
       "python      0.669216\n",
       "C++         0.286807\n",
       "julia      0.0956023\n",
       "dtype: object"
      ]
     },
     "execution_count": 422,
     "metadata": {},
     "output_type": "execute_result"
    }
   ],
   "source": [
    "l = pd.Series(pom, index=df1.index)\n",
    "u = l.sort_values(ascending=False)\n",
    "u"
   ]
  },
  {
   "cell_type": "code",
   "execution_count": 423,
   "metadata": {},
   "outputs": [
    {
     "data": {
      "text/plain": [
       "0    590\n",
       "1    710\n",
       "2    154\n",
       "3      4\n",
       "4      4\n",
       "dtype: int64"
      ]
     },
     "execution_count": 423,
     "metadata": {},
     "output_type": "execute_result"
    }
   ],
   "source": [
    "s = df[['stata', 'julia', 'python','R','C','C++','matlab','fortran','sas']]\n",
    "no_sw = s.sum(axis=1).astype(int).value_counts(sort=False)\n",
    "no_sw"
   ]
  },
  {
   "cell_type": "code",
   "execution_count": 424,
   "metadata": {},
   "outputs": [
    {
     "data": {
      "text/plain": [
       "0    40.355677\n",
       "1    48.563611\n",
       "2    10.533516\n",
       "3     0.273598\n",
       "4     0.273598\n",
       "dtype: float64"
      ]
     },
     "execution_count": 424,
     "metadata": {},
     "output_type": "execute_result"
    }
   ],
   "source": [
    "tot=len(s)\n",
    "no_ = no_sw.values*100/tot\n",
    "no_ = pd.Series(no_, index=no_sw.index)\n",
    "no_"
   ]
  },
  {
   "cell_type": "code",
   "execution_count": 425,
   "metadata": {},
   "outputs": [
    {
     "data": {
      "image/png": "[encoded data removed]",
      "text/plain": [
       "<matplotlib.figure.Figure at 0x1a21769210>"
      ]
     },
     "metadata": {},
     "output_type": "display_data"
    }
   ],
   "source": [
    "fig, axes = plt.subplots(nrows=1, ncols=2, figsize=(10, 4.5))\n",
    "sns.barplot(x=no_.index, y=no_.values, palette=\"Blues\", ax=axes[0])\n",
    "axes[0].set_ylabel(\"Percentage [%]\")\n",
    "axes[0].set_xlabel(\"Number of software tools\")\n",
    "axes[0].set_title(\"Number of software tools (out of listed) used in publications\")\n",
    "\n",
    "sns.barplot(x=u.index, y=u.values, palette=\"deep\", ax=axes[1])\n",
    "axes[1].set_ylabel(\"Percentage [%]\")\n",
    "axes[1].set_title(\"Most used software in AER publications from 1999 to 2018\")\n",
    "\n",
    "plt.tight_layout()\n",
    "plt.savefig('img/c.png', dpi=100)"
   ]
  },
  {
   "cell_type": "code",
   "execution_count": null,
   "metadata": {},
   "outputs": [],
   "source": []
  }
 ],
 "metadata": {
  "kernelspec": {
   "display_name": "Python 2",
   "language": "python",
   "name": "python2"
  },
  "language_info": {
   "codemirror_mode": {
    "name": "ipython",
    "version": 2
   },
   "file_extension": ".py",
   "mimetype": "text/x-python",
   "name": "python",
   "nbconvert_exporter": "python",
   "pygments_lexer": "ipython2",
   "version": "2.7.10"
  }
 },
 "nbformat": 4,
 "nbformat_minor": 2
}
